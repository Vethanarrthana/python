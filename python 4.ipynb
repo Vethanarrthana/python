{
 "cells": [
  {
   "cell_type": "code",
   "execution_count": 3,
   "id": "f940af41",
   "metadata": {},
   "outputs": [
    {
     "name": "stdout",
     "output_type": "stream",
     "text": [
      "value:10\n",
      "correct\n"
     ]
    }
   ],
   "source": [
    "i=int(input(\"value:\"))\n",
    "if(i==10):\n",
    " print(\"correct\")"
   ]
  },
  {
   "cell_type": "code",
   "execution_count": 5,
   "id": "c8b2cda9",
   "metadata": {},
   "outputs": [
    {
     "name": "stdout",
     "output_type": "stream",
     "text": [
      "enter password:HOPE@123\n",
      "your password is correct\n"
     ]
    }
   ],
   "source": [
    "password=input(\"enter password:\")\n",
    "if(password==\"HOPE@123\"):\n",
    "    print(\"your password is correct\")\n",
    "else:\n",
    "    print(\"not correct\")"
   ]
  },
  {
   "cell_type": "code",
   "execution_count": 6,
   "id": "6bddfae9",
   "metadata": {},
   "outputs": [
    {
     "name": "stdout",
     "output_type": "stream",
     "text": [
      "age:20\n",
      "Adult\n"
     ]
    }
   ],
   "source": [
    "age=int(input(\"age:\"))\n",
    "if(age<=18):\n",
    "    print(\"children\")\n",
    "elif(age<=30):\n",
    "    print(\"Adult\")\n",
    "elif(age<=70):\n",
    "    print(\"citizen\")\n",
    "else:\n",
    "    print(\"senior citizen\")"
   ]
  },
  {
   "cell_type": "code",
   "execution_count": 7,
   "id": "f40b56fc",
   "metadata": {},
   "outputs": [
    {
     "name": "stdout",
     "output_type": "stream",
     "text": [
      "Enter any number:1\n",
      "No is positive\n"
     ]
    }
   ],
   "source": [
    "no=int(input(\"Enter any number:\"))\n",
    "if(no>0):\n",
    "    print(\"No is positive\")\n",
    "else:\n",
    "     print(\"No is negative\")"
   ]
  },
  {
   "cell_type": "code",
   "execution_count": 8,
   "id": "5e8c0d44",
   "metadata": {},
   "outputs": [
    {
     "name": "stdout",
     "output_type": "stream",
     "text": [
      "enter a no to check:22\n",
      "no is not divisible by 5\n"
     ]
    }
   ],
   "source": [
    "n=int(input(\"enter a no to check:\"))\n",
    "if(n%5==0):\n",
    "    print(\"no is divisible by 5\")\n",
    "else:\n",
    "     print(\"no is not divisible by 5\")"
   ]
  },
  {
   "cell_type": "code",
   "execution_count": null,
   "id": "96b613b2",
   "metadata": {},
   "outputs": [],
   "source": []
  }
 ],
 "metadata": {
  "kernelspec": {
   "display_name": "Python 3 (ipykernel)",
   "language": "python",
   "name": "python3"
  },
  "language_info": {
   "codemirror_mode": {
    "name": "ipython",
    "version": 3
   },
   "file_extension": ".py",
   "mimetype": "text/x-python",
   "name": "python",
   "nbconvert_exporter": "python",
   "pygments_lexer": "ipython3",
   "version": "3.10.9"
  }
 },
 "nbformat": 4,
 "nbformat_minor": 5
}
