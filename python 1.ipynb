{
 "cells": [
  {
   "cell_type": "code",
   "execution_count": 1,
   "id": "8281b897",
   "metadata": {},
   "outputs": [
    {
     "name": "stdout",
     "output_type": "stream",
     "text": [
      "Welcome to Assignment-1\n"
     ]
    }
   ],
   "source": [
    "print(\"Welcome to Assignment-1\")"
   ]
  },
  {
   "cell_type": "code",
   "execution_count": 1,
   "id": "3fe674c7",
   "metadata": {},
   "outputs": [
    {
     "name": "stdout",
     "output_type": "stream",
     "text": [
      "Enter n1 value:10\n",
      "Enter n2 value:30\n",
      "Num1= 10\n",
      "Num2 30\n",
      "Add= 40\n"
     ]
    }
   ],
   "source": [
    "Num1=int(input(\"Enter n1 value:\"))\n",
    "Num2=int(input(\"Enter n2 value:\"))\n",
    "print(\"Num1=\",Num1)\n",
    "print(\"Num2\",Num2)\n",
    "print(\"Add=\",Num1+Num2)"
   ]
  },
  {
   "cell_type": "code",
   "execution_count": null,
   "id": "a1cda73c",
   "metadata": {},
   "outputs": [],
   "source": [
    "#Body Mass Index"
   ]
  },
  {
   "cell_type": "code",
   "execution_count": 5,
   "id": "5d0cb3cf",
   "metadata": {},
   "outputs": [
    {
     "name": "stdout",
     "output_type": "stream",
     "text": [
      "enter your height in cm:154\n",
      "enter your height in kg:48\n",
      "your Body Mass Index is: 20.23950075898128\n"
     ]
    }
   ],
   "source": [
    "height=float(input(\"enter your height in cm:\"))\n",
    "weight=float(input(\"enter your height in kg:\"))\n",
    "height=height/100\n",
    "BMI=weight/(height*height)\n",
    "print(\"your Body Mass Index is:\",BMI)"
   ]
  },
  {
   "cell_type": "code",
   "execution_count": 7,
   "id": "e1800091",
   "metadata": {},
   "outputs": [
    {
     "name": "stdout",
     "output_type": "stream",
     "text": [
      "Enter your Body Mass Index:34\n",
      "you are severely overweight\n"
     ]
    }
   ],
   "source": [
    "BMI=float(input(\"Enter your Body Mass Index:\"))\n",
    "if(BMI>=0):\n",
    "    if(BMI<=16):\n",
    "        print(\"you are severely underweight\")\n",
    "    elif(BMI<=18.5):\n",
    "         print(\"you are underweight\")\n",
    "    elif(BMI<=25):\n",
    "         print(\"you are healthy\")\n",
    "    elif(BMI<=30):\n",
    "         print(\"you are overweight\")\n",
    "    else:\n",
    "         print(\"you are severely overweight\")\n",
    "else:\n",
    "    print(\"enter valid details\")\n"
   ]
  },
  {
   "cell_type": "code",
   "execution_count": null,
   "id": "e1b7d001",
   "metadata": {},
   "outputs": [],
   "source": []
  }
 ],
 "metadata": {
  "kernelspec": {
   "display_name": "Python 3 (ipykernel)",
   "language": "python",
   "name": "python3"
  },
  "language_info": {
   "codemirror_mode": {
    "name": "ipython",
    "version": 3
   },
   "file_extension": ".py",
   "mimetype": "text/x-python",
   "name": "python",
   "nbconvert_exporter": "python",
   "pygments_lexer": "ipython3",
   "version": "3.10.9"
  }
 },
 "nbformat": 4,
 "nbformat_minor": 5
}
